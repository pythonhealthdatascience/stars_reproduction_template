{
  "cells": [
    {
      "cell_type": "raw",
      "metadata": {},
      "source": [
        "---\n",
        "title: \"Day X\"\n",
        "author: \"Researcher Name\"\n",
        "date: \"2024-12-25\"\n",
        "categories: [setup, read, scope, reproduce, guidelines, report, compendium]\n",
        "---"
      ],
      "id": "d9771231"
    },
    {
      "cell_type": "markdown",
      "metadata": {},
      "source": [
        "<!-- TODO: Use this template to create logbook entries -->\n",
        "\n",
        "::: {.callout-note}\n",
        "\n",
        "One sentence summary of the days work. Total time used: Xh Xm (X%)\n",
        "\n",
        ":::\n",
        "\n",
        "## 10.00-10.20: Task A\n",
        "\n",
        "Description of work and various accompanying details.\n",
        "\n",
        "::: {.callout-tip}\n",
        "## Highlight\n",
        "\n",
        "You can use callouts to highlight particular thoughts or learnings.\n",
        ":::\n",
        "\n",
        "## 10.20-10.33: Task B\n",
        "\n",
        "More notes.\n",
        "\n",
        "::: {.callout-note appearance=\"minimal\" collapse=true}\n",
        "## Collapsible callout\n",
        "\n",
        "Can use these to help keep repository organised if you are adding lots of notes for a particular task (e.g. notes from read through of paper).\n",
        ":::\n",
        "\n",
        "## Timings\n"
      ],
      "id": "34b7c67e"
    },
    {
      "cell_type": "code",
      "metadata": {},
      "source": [
        "import sys\n",
        "sys.path.append('../')\n",
        "from timings import calculate_times\n",
        "\n",
        "# Minutes used prior to today\n",
        "used_to_date = 0\n",
        "\n",
        "# Times from today\n",
        "times = [\n",
        "    ('10.00', '10.20'),\n",
        "    ('10.20', '10.33')]\n",
        "\n",
        "calculate_times(used_to_date, times)"
      ],
      "id": "339afbf6",
      "execution_count": null,
      "outputs": []
    }
  ],
  "metadata": {
    "kernelspec": {
      "display_name": "Python 3",
      "language": "python",
      "name": "python3"
    }
  },
  "nbformat": 4,
  "nbformat_minor": 5
}